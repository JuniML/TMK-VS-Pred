{
 "cells": [
  {
   "cell_type": "markdown",
   "id": "257dae10-5434-469b-9b97-ee975827d5d4",
   "metadata": {},
   "source": [
    "# Training and testing target-specific machine-learning models for structure-based virtual screening"
   ]
  },
  {
   "cell_type": "markdown",
   "id": "6ba11bc6-76f5-4e66-90eb-d7f1f5ccd553",
   "metadata": {},
   "source": [
    "This Jupyter notebook helps users train and test target-specific classification-based machine-learning models and Regression-based machine learning models for structure-based virtual screening using PLEC and GRID features.\n",
    "\n",
    "Additional information can be found in our Nature Protocols paper: Tran-Nguyen, V. K., Junaid, M., Simeon, S. & Ballester, P. J. A practical guide to machine-learning scoring for structure-based virtual screening. Nat. Protoc. (2023)\n",
    "\n",
    "We recommend users to set up the protocol-env environment before running the code in this Jupyter notebook. This can be done using the protocol-env.yml file in our MLSF-protocol github repository: https://github.com/vktrannguyen/MLSF-protocol.\n",
    "\n",
    "For deepcoys generation, please use the github repository https://github.com/fimrie/DeepCoy/tree/master"
   ]
  },
  {
   "cell_type": "code",
   "execution_count": null,
   "id": "57b0ac00-afb4-423c-a1fe-472252937edc",
   "metadata": {},
   "outputs": [],
   "source": [
    "import os\n",
    "import numpy as np\n",
    "import pandas as pd\n",
    "import oddt\n",
    "from oddt.fingerprints import PLEC\n",
    "from scipy import stats\n",
    "from sklearn import preprocessing\n",
    "import pickle\n",
    "from sklearn.svm import SVC\n",
    "from sklearn.ensemble import RandomForestClassifier, RandomForestRegressor\n",
    "from sklearn.metrics import matthews_corrcoef, precision_recall_curve, accuracy_score, auc\n",
    "from sklearn.model_selection import cross_val_predict, cross_val_score\n",
    "from sklearn.neural_network import MLPClassifier\n",
    "from sklearn.utils import parallel_backend\n",
    "from xgboost.sklearn import XGBClassifier\n",
    "from rdkit import Chem\n",
    "from rdkit.Chem import AllChem\n",
    "import deepchem as dc\n",
    "from deepchem.utils import download_url, load_from_disk\n",
    "from deepchem.utils.vina_utils import prepare_inputs\n",
    "from deepchem.models import AtomicConvModel\n",
    "from deepchem.feat import RdkitGridFeaturizer\n",
    "from joblib import Parallel, delayed\n",
    "from tqdm import tqdm\n",
    "import glob\n",
    "import tempfile\n",
    "import hyperopt\n",
    "from hyperopt import hp, tpe, Trials, fmin, STATUS_OK, space_eval"
   ]
  },
  {
   "cell_type": "markdown",
   "id": "47865db4-0029-46db-9b4a-58bca094615a",
   "metadata": {},
   "source": [
    "## 2. Load smile files for train and test"
   ]
  },
  {
   "cell_type": "code",
   "execution_count": null,
   "id": "9fdb9ad5-a754-49ee-aee4-fcbb995cd267",
   "metadata": {},
   "outputs": [],
   "source": [
    "#Provide the pathway to the csv training data file:\n",
    "train_data = pd.read_csv(\"pathway_to_training-set_csv_data_file\")\n",
    "\n",
    "#Provide the pathway to the csv test data file:\n",
    "test_data = pd.read_csv(\"pathway_to_test-set_csv_data_file\")"
   ]
  },
  {
   "cell_type": "markdown",
   "id": "56023a7e-d5b9-45c2-88f2-250ea94d4af3",
   "metadata": {},
   "source": [
    "## 3. Convert smiles to mol2 files"
   ]
  },
  {
   "cell_type": "code",
   "execution_count": null,
   "id": "d4b747fc-e003-4636-a86f-c4d612eb9798",
   "metadata": {},
   "outputs": [],
   "source": [
    "for index,smi in enumerate(chem_file_1_smiles):\n",
    "    mol=pybel.readstring(string=smi,format='smiles')\n",
    "    mol.title='mol_'+str(index)\n",
    "    mol.make3D('mmff94s')\n",
    "    mol.localopt(forcefield='mmff94s', steps=500)\n",
    "    out=pybel.Outputfile(filename='/path_for_mol2_files/'+'mol_'+str(index)+'.mol2',format='mol2',overwrite=True)\n",
    "    out.write(mol)\n",
    "    out.close()"
   ]
  },
  {
   "cell_type": "markdown",
   "id": "f6c01de4-7b30-478c-97ee-4c1fe813b4b3",
   "metadata": {},
   "source": [
    "## 4. Run docking using smina"
   ]
  },
  {
   "cell_type": "code",
   "execution_count": null,
   "id": "f552596e-2ba7-4e11-900a-e3e2628d6751",
   "metadata": {},
   "outputs": [],
   "source": [
    "def run_smina(input_file):\n",
    "    receptor_path = ['path_to_receptor_pdb_file']\n",
    "    input_path = ['path_to_mol2_files' + str(input_file)]\n",
    "    output_path = ['path_for_output_docked_poses/' + str(input_file)[:-5] +  '_docked.sdf']\n",
    "    smina_command = ['path_to_smina_code/smina -r '+ str(receptor_path[0])+ \n",
    "                    ' -l '+str(input_file)+ ' -o '+str(output_path[0])+ ' --center_x ' +str(center['center_x'])+\n",
    "                    ' --center_y '+str(center['center_y'])+ ' --center_z '+str(center['center_z'])+ \n",
    "                    ' --size_x '+ str(size['size_x'])+ ' --size_y '+ str(size['size_y'])+ ' --size_z '+ str(size['size_z'])+ ' --exhaustiveness 8 --num_modes 1']\n",
    "    os.system(smina_command[0])\n",
    "    \n",
    "Parallel(n_jobs = 40, backend = 'multiprocessing')(delayed(run_smina)(input_file) for input_file in tqdm(input_files))"
   ]
  },
  {
   "cell_type": "markdown",
   "id": "76153497-05e7-434c-a59c-9fd11ebf5944",
   "metadata": {},
   "source": [
    "## 5. Extract PLEC fingerprints from input data"
   ]
  },
  {
   "cell_type": "code",
   "execution_count": null,
   "id": "3a5f910b-3a46-4dd0-a7f9-ff373b952aab",
   "metadata": {},
   "outputs": [],
   "source": [
    "protein = next(oddt.toolkit.readfile('pdb', 'path_to_receptor_structure'))\n",
    "def parallel_plec(lig):\n",
    "    ligand = next(oddt.toolkit.readfile('sdf', lig))\n",
    "    feature = PLEC(ligand, protein = protein, size = 4092, \n",
    "                  depth_protein = 4, depth_ligand = 2,\n",
    "                  distance_cutoff = 4.5, sparse = False)\n",
    "    return feature\n",
    "plec_training_actives = Parallel(n_jobs = 40, backend = \"multiprocessing\")(delayed(parallel_plec)(mol) for mol in tqdm(docked_sdf_active))"
   ]
  },
  {
   "cell_type": "markdown",
   "id": "3de1a685-3378-4262-a271-d6ac3df1347b",
   "metadata": {},
   "source": [
    "## 6. Extract GRID features from input data"
   ]
  },
  {
   "cell_type": "code",
   "execution_count": null,
   "id": "ba03b1fa-feee-47d7-a27c-b956a879fba1",
   "metadata": {},
   "outputs": [],
   "source": [
    "featurizer = RdkitGridFeaturizer(voxel_width=16.0, feature_types=[\"ecfp\", \"splif\", \"hbond\", \"salt_bridge\"], ecfp_power=9,splif_power=9,flatten=True)\n",
    "protein = 'path_to_receptor_structure'\n",
    "def extract_grid_feature(ligand_file):\n",
    "    feature = featurizer._featurize((ligand_file, protein))\n",
    "    return feature\n",
    "grid_training_augmented_actives = Parallel(n_jobs = 40, backend = \"multiprocessing\")(delayed(extract_grid_feature)(mol) for mol in tqdm(docked_sdf_active))"
   ]
  },
  {
   "cell_type": "markdown",
   "id": "bc7b96d0-406c-4b7e-9112-c424d70755fa",
   "metadata": {},
   "source": [
    "## 7. Perform cross validation"
   ]
  },
  {
   "cell_type": "code",
   "execution_count": 55,
   "id": "8aa44be6-40ce-4833-bf4c-de44a864fe86",
   "metadata": {},
   "outputs": [
    {
     "name": "stdout",
     "output_type": "stream",
     "text": [
      "Evaluating Random Forest...\n",
      "Fold 1 - Optimal Threshold: 0.024, Avg Precision: 0.872, ROC-AUC: 0.990, PR-AUC: 0.871, Precision: 0.330, Recall: 0.944, MCC: 0.543, F1: 0.489\n",
      "Fold 2 - Optimal Threshold: 0.025, Avg Precision: 0.919, ROC-AUC: 0.995, PR-AUC: 0.919, Precision: 0.433, Recall: 0.963, MCC: 0.635, F1: 0.598\n",
      "Fold 3 - Optimal Threshold: 0.026, Avg Precision: 0.829, ROC-AUC: 0.977, PR-AUC: 0.829, Precision: 0.411, Recall: 0.880, MCC: 0.589, F1: 0.560\n",
      "Fold 4 - Optimal Threshold: 0.026, Avg Precision: 0.833, ROC-AUC: 0.975, PR-AUC: 0.832, Precision: 0.254, Recall: 0.935, MCC: 0.468, F1: 0.399\n",
      "Fold 5 - Optimal Threshold: 0.028, Avg Precision: 0.803, ROC-AUC: 0.957, PR-AUC: 0.803, Precision: 0.247, Recall: 0.916, MCC: 0.456, F1: 0.389\n",
      "Evaluating XGBoost...\n",
      "Fold 1 - Optimal Threshold: 0.138, Avg Precision: 0.932, ROC-AUC: 0.992, PR-AUC: 0.932, Precision: 0.457, Recall: 0.972, MCC: 0.656, F1: 0.621\n",
      "Fold 2 - Optimal Threshold: 0.183, Avg Precision: 0.983, ROC-AUC: 0.999, PR-AUC: 0.983, Precision: 0.797, Recall: 0.981, MCC: 0.881, F1: 0.880\n",
      "Fold 3 - Optimal Threshold: 0.133, Avg Precision: 0.902, ROC-AUC: 0.982, PR-AUC: 0.902, Precision: 0.335, Recall: 0.963, MCC: 0.554, F1: 0.498\n",
      "Fold 4 - Optimal Threshold: 0.187, Avg Precision: 0.894, ROC-AUC: 0.984, PR-AUC: 0.893, Precision: 0.588, Recall: 0.898, MCC: 0.719, F1: 0.711\n",
      "Fold 5 - Optimal Threshold: 0.153, Avg Precision: 0.899, ROC-AUC: 0.991, PR-AUC: 0.898, Precision: 0.364, Recall: 0.953, MCC: 0.576, F1: 0.527\n",
      "Evaluating ANN...\n",
      "Fold 1 - Optimal Threshold: 0.069, Avg Precision: 0.592, ROC-AUC: 0.882, PR-AUC: 0.591, Precision: 0.189, Recall: 0.667, MCC: 0.329, F1: 0.295\n",
      "Fold 2 - Optimal Threshold: 0.108, Avg Precision: 0.501, ROC-AUC: 0.874, PR-AUC: 0.494, Precision: 0.262, Recall: 0.704, MCC: 0.408, F1: 0.382\n",
      "Fold 3 - Optimal Threshold: 0.081, Avg Precision: 0.583, ROC-AUC: 0.826, PR-AUC: 0.582, Precision: 0.234, Recall: 0.620, MCC: 0.358, F1: 0.340\n",
      "Fold 4 - Optimal Threshold: 0.016, Avg Precision: 0.211, ROC-AUC: 0.839, PR-AUC: 0.208, Precision: 0.061, Recall: 0.815, MCC: 0.166, F1: 0.113\n",
      "Fold 5 - Optimal Threshold: 0.018, Avg Precision: 0.537, ROC-AUC: 0.914, PR-AUC: 0.535, Precision: 0.103, Recall: 0.832, MCC: 0.254, F1: 0.184\n",
      "\n",
      "Random Forest:\n",
      "Mean Optimal Threshold: 0.026, Std Dev: 0.001\n",
      "Mean Average Precision: 0.851, Std Dev: 0.040\n",
      "Mean ROC-AUC: 0.979, Std Dev: 0.013\n",
      "Mean PR-AUC: 0.851, Std Dev: 0.041\n",
      "Mean Precision: 0.335, Std Dev: 0.077\n",
      "Mean Recall: 0.928, Std Dev: 0.028\n",
      "Mean MCC: 0.538, Std Dev: 0.069\n",
      "Mean F1 Score: 0.487, Std Dev: 0.084\n",
      "\n",
      "XGBoost:\n",
      "Mean Optimal Threshold: 0.159, Std Dev: 0.022\n",
      "Mean Average Precision: 0.922, Std Dev: 0.034\n",
      "Mean ROC-AUC: 0.989, Std Dev: 0.006\n",
      "Mean PR-AUC: 0.922, Std Dev: 0.034\n",
      "Mean Precision: 0.508, Std Dev: 0.169\n",
      "Mean Recall: 0.954, Std Dev: 0.029\n",
      "Mean MCC: 0.677, Std Dev: 0.118\n",
      "Mean F1 Score: 0.647, Std Dev: 0.138\n",
      "\n",
      "ANN:\n",
      "Mean Optimal Threshold: 0.058, Std Dev: 0.036\n",
      "Mean Average Precision: 0.485, Std Dev: 0.141\n",
      "Mean ROC-AUC: 0.867, Std Dev: 0.032\n",
      "Mean PR-AUC: 0.482, Std Dev: 0.142\n",
      "Mean Precision: 0.170, Std Dev: 0.077\n",
      "Mean Recall: 0.727, Std Dev: 0.083\n",
      "Mean MCC: 0.303, Std Dev: 0.085\n",
      "Mean F1 Score: 0.263, Std Dev: 0.100\n",
      "\n",
      "Mean Metrics for Each Model (rounded to three decimal places):\n",
      "\n",
      "Random Forest:\n",
      "Mean Optimal Threshold: 0.026, Std Dev: 0.001\n",
      "Mean Average Precision: 0.851, Std Dev: 0.040\n",
      "Mean ROC-AUC: 0.979, Std Dev: 0.013\n",
      "Mean PR-AUC: 0.851, Std Dev: 0.041\n",
      "Mean Precision: 0.335, Std Dev: 0.077\n",
      "Mean Recall: 0.928, Std Dev: 0.028\n",
      "Mean MCC: 0.538, Std Dev: 0.069\n",
      "Mean F1 Score: 0.487, Std Dev: 0.084\n",
      "\n",
      "XGBoost:\n",
      "Mean Optimal Threshold: 0.1589999943971634, Std Dev: 0.022\n",
      "Mean Average Precision: 0.922, Std Dev: 0.034\n",
      "Mean ROC-AUC: 0.989, Std Dev: 0.006\n",
      "Mean PR-AUC: 0.922, Std Dev: 0.034\n",
      "Mean Precision: 0.508, Std Dev: 0.169\n",
      "Mean Recall: 0.954, Std Dev: 0.029\n",
      "Mean MCC: 0.677, Std Dev: 0.118\n",
      "Mean F1 Score: 0.647, Std Dev: 0.138\n",
      "\n",
      "ANN:\n",
      "Mean Optimal Threshold: 0.058, Std Dev: 0.036\n",
      "Mean Average Precision: 0.485, Std Dev: 0.141\n",
      "Mean ROC-AUC: 0.867, Std Dev: 0.032\n",
      "Mean PR-AUC: 0.482, Std Dev: 0.142\n",
      "Mean Precision: 0.17, Std Dev: 0.077\n",
      "Mean Recall: 0.727, Std Dev: 0.083\n",
      "Mean MCC: 0.303, Std Dev: 0.085\n",
      "Mean F1 Score: 0.263, Std Dev: 0.100\n",
      "\n",
      "Mean Metric Scores for Each Model:\n",
      "Optimal Threshold: [0.026, 0.159, 0.058]\n",
      "Average Precision: [0.851, 0.922, 0.485]\n",
      "ROC-AUC: [0.979, 0.989, 0.867]\n",
      "PR-AUC: [0.851, 0.922, 0.482]\n",
      "Precision: [0.335, 0.508, 0.17]\n",
      "Recall: [0.928, 0.954, 0.727]\n",
      "MCC: [0.538, 0.677, 0.303]\n",
      "F1 Score: [0.487, 0.647, 0.263]\n"
     ]
    }
   ],
   "source": [
    "def find_optimal_threshold(y_true, y_pred_prob):\n",
    "    fpr, tpr, thresholds = roc_curve(y_true, y_pred_prob)\n",
    "    optimal_idx = np.argmax(tpr - fpr)\n",
    "    return thresholds[optimal_idx]\n",
    "\n",
    "# Initialize the StratifiedKFold object\n",
    "skf = StratifiedKFold(n_splits=5)\n",
    "\n",
    "# Define the models in a dictionary\n",
    "models = {\n",
    "    'Random Forest': RandomForestClassifier(max_depth=3, max_features='log2', min_samples_leaf=1, min_samples_split=8, n_estimators=270, n_jobs=40),\n",
    "    'XGBoost': XGBClassifier(learning_rate=0.01, max_depth=7, colsample_bytree=0.73, gamma=1.96, min_child_weight=8, subsample=0.71, n_estimators=150),\n",
    "    'ANN': MLPClassifier(hidden_layer_sizes=(50,), activation='tanh', alpha=0.0070, learning_rate='invscaling', solver='sgd')\n",
    "}\n",
    "\n",
    "# Perform stratified 5-fold cross-validation for each model\n",
    "results = {}\n",
    "\n",
    "for model_name, model in models.items():\n",
    "    print(f\"Evaluating {model_name}...\")\n",
    "    \n",
    "    metrics = {\n",
    "        'Optimal Threshold': [],\n",
    "        'Average Precision': [],\n",
    "        'ROC-AUC': [],\n",
    "        'PR-AUC': [],\n",
    "        'Precision': [],\n",
    "        'Recall': [],\n",
    "        'MCC': [],\n",
    "        'F1 Score': []\n",
    "    }\n",
    "    \n",
    "    fold = 1\n",
    "    for train_index, test_index in skf.split(X_plec_train, y_plec_train):\n",
    "        # Split the data into training and validation sets\n",
    "        X_train, X_test = X_plec_train.iloc[train_index], X_plec_train.iloc[test_index]\n",
    "        y_train, y_test = y_plec_train[train_index], y_plec_train[test_index]\n",
    "        \n",
    "        # Train the model\n",
    "        model.fit(X_train, y_train)\n",
    "        \n",
    "        # Predict probabilities on the validation set\n",
    "        y_pred_prob = model.predict_proba(X_test)[:, 1]\n",
    "        \n",
    "        # Find optimal threshold\n",
    "        optimal_threshold = find_optimal_threshold(y_test, y_pred_prob)\n",
    "        \n",
    "        # Make predictions using the optimal threshold\n",
    "        y_pred = (y_pred_prob >= optimal_threshold).astype(int)\n",
    "        \n",
    "        # Calculate metrics\n",
    "        avg_precision = average_precision_score(y_test, y_pred_prob)\n",
    "        roc_auc = roc_auc_score(y_test, y_pred_prob)\n",
    "        precision = precision_score(y_test, y_pred)\n",
    "        recall = recall_score(y_test, y_pred)\n",
    "        mcc = matthews_corrcoef(y_test, y_pred)\n",
    "        f1 = f1_score(y_test, y_pred)\n",
    "        \n",
    "        # Calculate PR-AUC\n",
    "        precision_curve, recall_curve, _ = precision_recall_curve(y_test, y_pred_prob)\n",
    "        pr_auc = auc(recall_curve, precision_curve)\n",
    "        \n",
    "        # Store metrics\n",
    "        metrics['Optimal Threshold'].append(optimal_threshold)\n",
    "        metrics['Average Precision'].append(avg_precision)\n",
    "        metrics['ROC-AUC'].append(roc_auc)\n",
    "        metrics['PR-AUC'].append(pr_auc)\n",
    "        metrics['Precision'].append(precision)\n",
    "        metrics['Recall'].append(recall)\n",
    "        metrics['MCC'].append(mcc)\n",
    "        metrics['F1 Score'].append(f1)\n",
    "        \n",
    "        print(f\"Fold {fold} - Optimal Threshold: {optimal_threshold:.3f}, Avg Precision: {avg_precision:.3f}, ROC-AUC: {roc_auc:.3f}, PR-AUC: {pr_auc:.3f}, Precision: {precision:.3f}, Recall: {recall:.3f}, MCC: {mcc:.3f}, F1: {f1:.3f}\")\n",
    "        fold += 1\n",
    "    \n",
    "    # Calculate mean and standard deviation of each metric\n",
    "    results[model_name] = {metric: (np.mean(values), np.std(values)) for metric, values in metrics.items()}\n",
    "\n",
    "# Print overall results\n",
    "for model_name, metrics in results.items():\n",
    "    print(f\"\\n{model_name}:\")\n",
    "    for metric, (mean, std) in metrics.items():\n",
    "        print(f\"Mean {metric}: {mean:.3f}, Std Dev: {std:.3f}\")\n",
    "\n",
    "# Print mean metrics for each model\n",
    "print(\"\\nMean Metrics for Each Model (rounded to three decimal places):\")\n",
    "mean_metrics = {metric: [] for metric in metrics.keys()}\n",
    "for model_name, metrics in results.items():\n",
    "    print(f\"\\n{model_name}:\")\n",
    "    for metric, (mean, std) in metrics.items():\n",
    "        mean_rounded = round(mean, 3)\n",
    "        mean_metrics[metric].append(mean_rounded)\n",
    "        print(f\"Mean {metric}: {mean_rounded}, Std Dev: {std:.3f}\")\n",
    "\n",
    "print(\"\\nMean Metric Scores for Each Model:\")\n",
    "for metric, scores in mean_metrics.items():\n",
    "    print(f\"{metric}: {scores}\")"
   ]
  },
  {
   "cell_type": "markdown",
   "id": "1a8006c3-9b1b-4e0e-97a4-5740662aca08",
   "metadata": {},
   "source": [
    "## 8. Train and test the RF algorithm"
   ]
  },
  {
   "cell_type": "markdown",
   "id": "cebe0448-ae62-4b39-b160-cb1493fe10d5",
   "metadata": {},
   "source": [
    "hyperparameter tuning"
   ]
  },
  {
   "cell_type": "code",
   "execution_count": null,
   "id": "9afc9a1e-6841-4bf1-895d-2cca8144ba80",
   "metadata": {},
   "outputs": [],
   "source": [
    "#Define the search space for optimal parameters:\n",
    "space = {\"n_estimators\": hp.uniform(\"n_estimators\", 50, 10000),\n",
    "         \"max_depth\": hp.choice(\"max_depth\", [1, 2, 3, 4, 5, None]),\n",
    "         \"criterion\": hp.choice(\"criterion\", ['gini', 'entropy']),\n",
    "         'min_samples_leaf':hp.randint('min_samples_leaf',1,5),\n",
    "         'min_samples_split':hp.randint('min_samples_split',2,6)}\n",
    "\n",
    "#Define the function for hyperparameter tuning:\n",
    "def hyperparameter_tuning_randomforest(space):\n",
    "    model = RandomForestClassifier(**space, n_jobs = 40)\n",
    "    model.fit(np.array(train_features), Train_Class)\n",
    "    predicted_train = model.predict(np.array(train_features))\n",
    "    mcc = matthews_corrcoef(Train_Class, predicted_train)\n",
    "    return {'loss': 1-mcc, 'status': STATUS_OK, 'model': model}\n",
    "    \n",
    "#Search for optimal parameters:\n",
    "trials = Trials()\n",
    "best_rf_classification = fmin(fn = hyperparameter_tuning_randomforest, space = space, algo = tpe.suggest,\n",
    "                              max_evals = 10, trials = trials)\n",
    "best_params = space_eval(space, best_rf_classification)\n",
    "\n",
    "#Optimal parameters:\n",
    "best_params"
   ]
  },
  {
   "cell_type": "code",
   "execution_count": null,
   "id": "d4e5bd28-d623-447e-abfe-265b92bdbf0e",
   "metadata": {},
   "outputs": [],
   "source": [
    "#Train the RF model on the training molecules, using optimal parameters:\n",
    "rf_plec = RandomForestClassifier(n_estimators = int(best_params['n_estimators']), \n",
    "                                 max_depth = best_params['max_depth'], \n",
    "                                 criterion = best_params['criterion'],\n",
    "                                 min_samples_split = best_params['min_samples_split'],\n",
    "                                 min_samples_leaf = best_params['min_samples_leaf']\n",
    "                                 n_jobs = 30)\n",
    "rf_plec.fit(train_features, Train_Class)\n",
    "\n",
    "#Test the RF model on the test molecules:\n",
    "prediction_test_rf_plec_class = rf_plec.predict(test_features)\n",
    "prediction_test_rf_plec_prob = rf_plec.predict_proba(test_features)\n",
    "\n",
    "#Get virtual screening results on the test molecules and export results to a csv file:\n",
    "plec_result_rf = pd.DataFrame({\"Active_Prob\": prediction_test_rf_plec_prob[:, 0],\n",
    "                               \"Inactive_Prob\": prediction_test_rf_plec_prob[:, 1],\n",
    "                               \"Predicted_Class\": prediction_test_rf_plec_class,\n",
    "                               \"Real_Class\": Test_Class})\n",
    "plec_result_rf.to_csv(\"where_you_want_to_store_the_csv_output_file\")"
   ]
  },
  {
   "cell_type": "markdown",
   "id": "19f0b6bd-1376-4577-88b5-923e92aa6e0a",
   "metadata": {},
   "source": [
    "## 9. Train and test the XGB algorithm"
   ]
  },
  {
   "cell_type": "markdown",
   "id": "13480f28-a8bc-4796-b8e1-3a7c54e34821",
   "metadata": {},
   "source": [
    "hyperparameter tuning"
   ]
  },
  {
   "cell_type": "code",
   "execution_count": null,
   "id": "04ec0092-c1f2-42f7-bcda-b4451c35c1d2",
   "metadata": {},
   "outputs": [],
   "source": [
    "seed=5\n",
    "def objective_plec_2(params):\n",
    "    xgb_plec=xgb.XGBClassifier(**params, n_jobs=40, random_state=seed)\n",
    "    xgb_plec.fit(X_train_plec,y_train_plec)\n",
    "    pred_xgb_plec=xgb_plec.predict(X_val_plec)\n",
    "    accuracy = accuracy_score(y_val_plec, pred_xgb_plec)\n",
    "    return {'loss': -accuracy, 'status': STATUS_OK}\n",
    "\n",
    "params={'n_estimators':hp.randint('n_estimators',100,500),\n",
    "           'max_depth':hp.randint('max_depth',5,20),\n",
    "           'learning_rate':hp.choice('learning_rate',[0.01,0.1])}\n",
    "\n",
    "def optimize_plec_2(trial_xgb_plec):\n",
    "\n",
    "    best_plec_2=fmin(fn=objective_plec_2,\n",
    "                     space=params,\n",
    "                     algo=tpe.suggest,\n",
    "                     max_evals=500,\n",
    "                     rstate=np.random.default_rng(seed))\n",
    "    return best_plec_2\n",
    "\n",
    "trial_xgb_plec=Trials()\n",
    "best_xgb_plec=optimize_plec_2(trial_xgb_plec)"
   ]
  },
  {
   "cell_type": "code",
   "execution_count": null,
   "id": "c63ad053-b860-4774-b4aa-833e48555f9f",
   "metadata": {},
   "outputs": [],
   "source": [
    "#Train the XGB model on the training molecules, using optimal parameters:\n",
    "xgb_plec = XGBClassifier(max_depth = int(best_params['max_depth']),\n",
    "                         n_estimators = int(best_params['n_estimators']),\n",
    "                         learning_rate = int(best_params['learning_rate'])\n",
    "                         n_jobs = 40, random_state = 0)\n",
    "xgb_plec.fit(np.array(train_features), Train_Class)\n",
    "\n",
    "#Test the XGB model on the test molecules:\n",
    "prediction_test_xgb_plec_class = xgb_plec.predict(np.array(test_features))\n",
    "prediction_test_xgb_plec_prob = xgb_plec.predict_proba(np.array(test_features))\n",
    "\n",
    "#Get virtual screening results on the test molecules and export results to a csv file:\n",
    "plec_result_xgb = pd.DataFrame({\"Active_Prob\": prediction_test_xgb_plec_prob[:, 0],\n",
    "                                \"Inactive_Prob\": prediction_test_xgb_plec_prob[:, 1],\n",
    "                                \"Predicted_Class\": prediction_test_xgb_plec_class,\n",
    "                                \"Real_Class\": Test_Class})\n",
    "plec_result_xgb.to_csv(\"where_you_want_to_store_the_csv_output_file\")"
   ]
  },
  {
   "cell_type": "markdown",
   "id": "b9f0b9e5-db5e-465c-b3bf-42dee0cb9e3f",
   "metadata": {},
   "source": [
    "## 10. Train and test the ANN algorithm"
   ]
  },
  {
   "cell_type": "markdown",
   "id": "edfff0a8-4883-4bca-8964-cf056d6e478e",
   "metadata": {},
   "source": [
    "hyperparameter tuning"
   ]
  },
  {
   "cell_type": "code",
   "execution_count": null,
   "id": "03f6e4fe-6f92-4ada-9a23-b84a11654170",
   "metadata": {},
   "outputs": [],
   "source": [
    "#Define the search space for optimal parameters:\n",
    "space = {\"hidden_layer_sizes\": hp.uniform(\"hidden_layer_sizes\", 8, 140),\n",
    "         \"activation\": hp.choice(\"activation\", ['relu', 'tanh']),\n",
    "         \"max_iter\": hp.uniform(\"max_iter\", 1000, 10000)}\n",
    "\n",
    "#Define the function for hyperparameter tuning:\n",
    "def hyperparameter_tuning_ANN(space):\n",
    "    model = MLPClassifier(hidden_layer_sizes = int(space['hidden_layer_sizes']),\n",
    "                          activation = space['activation'],\n",
    "                          max_iter = int(space['max_iter']))\n",
    "    model.fit(np.array(train_features), Train_Class)\n",
    "    predicted_train = model.predict(np.array(train_features))\n",
    "    mcc = matthews_corrcoef(Train_Class, predicted_train)\n",
    "    return {'loss': 1-mcc, 'status': STATUS_OK, 'model': model}\n",
    "    \n",
    "#Search for optimal parameters:\n",
    "trials = Trials()\n",
    "best_ann_classification = fmin(fn = hyperparameter_tuning_ANN, space = space, algo = tpe.suggest,\n",
    "                               max_evals = 10, trials = trials)\n",
    "best_params = space_eval(space, best_ann_classification)\n",
    "\n",
    "#Optimal parameters:\n",
    "best_params"
   ]
  },
  {
   "cell_type": "code",
   "execution_count": null,
   "id": "15c5c1b3-6ea9-43d3-92f8-49d594c3c985",
   "metadata": {},
   "outputs": [],
   "source": [
    "#Train the ANN model on the training molecules, using optimal parameters:\n",
    "ann_plec = MLPClassifier(hidden_layer_sizes = int(best_params['hidden_layer_sizes']), \n",
    "                         activation = best_params['activation'], \n",
    "                         max_iter = int(best_params['max_iter']), \n",
    "                         random_state = 0)\n",
    "ann_plec.fit(train_features, Train_Class)\n",
    "\n",
    "#Test the ANN model on the test molecules:\n",
    "prediction_test_ann_plec_class = ann_plec.predict(test_features)\n",
    "prediction_test_ann_plec_prob = ann_plec.predict_proba(test_features)\n",
    "\n",
    "#Get virtual screening results on the test molecules and export results to a csv file:\n",
    "plec_result_ann = pd.DataFrame({\"Active_Prob\": prediction_test_ann_plec_prob[:, 0],\n",
    "                                \"Inactive_Prob\": prediction_test_ann_plec_prob[:, 1],\n",
    "                                \"Predicted_Class\": prediction_test_ann_plec_class,\n",
    "                                \"Real_Class\": Test_Class})\n",
    "plec_result_ann.to_csv(\"where_you_want_to_store_the_csv_output_file\")"
   ]
  },
  {
   "cell_type": "code",
   "execution_count": null,
   "id": "f2b5e8a1-adca-44bc-94eb-ef6cc10ae85a",
   "metadata": {},
   "outputs": [],
   "source": []
  },
  {
   "cell_type": "code",
   "execution_count": null,
   "id": "7a59b249-9cfd-4f56-af32-576f715c5f00",
   "metadata": {},
   "outputs": [],
   "source": []
  },
  {
   "cell_type": "code",
   "execution_count": null,
   "id": "fe048c6c-c15d-4ad5-b3a8-9c4bbb3cb112",
   "metadata": {},
   "outputs": [],
   "source": []
  },
  {
   "cell_type": "code",
   "execution_count": null,
   "id": "087887d0-d582-4186-b58c-d29635ad7129",
   "metadata": {},
   "outputs": [],
   "source": []
  }
 ],
 "metadata": {
  "kernelspec": {
   "display_name": "Python 3 (ipykernel)",
   "language": "python",
   "name": "python3"
  },
  "language_info": {
   "codemirror_mode": {
    "name": "ipython",
    "version": 3
   },
   "file_extension": ".py",
   "mimetype": "text/x-python",
   "name": "python",
   "nbconvert_exporter": "python",
   "pygments_lexer": "ipython3",
   "version": "3.8.17"
  }
 },
 "nbformat": 4,
 "nbformat_minor": 5
}
